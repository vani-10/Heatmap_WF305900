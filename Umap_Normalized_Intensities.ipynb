{
 "cells": [
  {
   "cell_type": "code",
   "execution_count": 1,
   "metadata": {},
   "outputs": [],
   "source": [
    "import numpy as np\n",
    "from sklearn.datasets import load_digits\n",
    "from sklearn.model_selection import train_test_split\n",
    "from sklearn.preprocessing import StandardScaler\n",
    "import matplotlib.pyplot as plt\n",
    "import seaborn as sns\n",
    "import pandas as pd\n",
    "%matplotlib inline"
   ]
  },
  {
   "cell_type": "code",
   "execution_count": 2,
   "metadata": {},
   "outputs": [],
   "source": [
    "sns.set(style='white', context='notebook', rc={'figure.figsize':(14,10)})"
   ]
  },
  {
   "cell_type": "code",
   "execution_count": 4,
   "metadata": {},
   "outputs": [
    {
     "data": {
      "text/html": [
       "<div>\n",
       "<style scoped>\n",
       "    .dataframe tbody tr th:only-of-type {\n",
       "        vertical-align: middle;\n",
       "    }\n",
       "\n",
       "    .dataframe tbody tr th {\n",
       "        vertical-align: top;\n",
       "    }\n",
       "\n",
       "    .dataframe thead th {\n",
       "        text-align: right;\n",
       "    }\n",
       "</style>\n",
       "<table border=\"1\" class=\"dataframe\">\n",
       "  <thead>\n",
       "    <tr style=\"text-align: right;\">\n",
       "      <th></th>\n",
       "      <th>0</th>\n",
       "      <th>1</th>\n",
       "      <th>2</th>\n",
       "      <th>3</th>\n",
       "      <th>4</th>\n",
       "      <th>5</th>\n",
       "      <th>6</th>\n",
       "      <th>7</th>\n",
       "      <th>8</th>\n",
       "      <th>9</th>\n",
       "      <th>...</th>\n",
       "      <th>54</th>\n",
       "      <th>55</th>\n",
       "      <th>56</th>\n",
       "      <th>57</th>\n",
       "      <th>58</th>\n",
       "      <th>59</th>\n",
       "      <th>60</th>\n",
       "      <th>61</th>\n",
       "      <th>62</th>\n",
       "      <th>63</th>\n",
       "    </tr>\n",
       "  </thead>\n",
       "  <tbody>\n",
       "    <tr>\n",
       "      <th>0</th>\n",
       "      <td>0.068622</td>\n",
       "      <td>0.083932</td>\n",
       "      <td>0.131006</td>\n",
       "      <td>0.110712</td>\n",
       "      <td>0.091700</td>\n",
       "      <td>0.242029</td>\n",
       "      <td>0.086491</td>\n",
       "      <td>0.120168</td>\n",
       "      <td>0.087758</td>\n",
       "      <td>0.090859</td>\n",
       "      <td>...</td>\n",
       "      <td>0.127396</td>\n",
       "      <td>0.071876</td>\n",
       "      <td>0.196801</td>\n",
       "      <td>0.145509</td>\n",
       "      <td>0.170728</td>\n",
       "      <td>0.065765</td>\n",
       "      <td>0.053665</td>\n",
       "      <td>0.078728</td>\n",
       "      <td>0.066666</td>\n",
       "      <td>0.142620</td>\n",
       "    </tr>\n",
       "    <tr>\n",
       "      <th>1</th>\n",
       "      <td>0.056056</td>\n",
       "      <td>0.044472</td>\n",
       "      <td>0.071253</td>\n",
       "      <td>0.038244</td>\n",
       "      <td>0.072514</td>\n",
       "      <td>0.062007</td>\n",
       "      <td>0.086187</td>\n",
       "      <td>0.037235</td>\n",
       "      <td>0.237438</td>\n",
       "      <td>0.056541</td>\n",
       "      <td>...</td>\n",
       "      <td>0.089301</td>\n",
       "      <td>0.144980</td>\n",
       "      <td>0.051161</td>\n",
       "      <td>0.115317</td>\n",
       "      <td>0.081901</td>\n",
       "      <td>0.062326</td>\n",
       "      <td>0.025021</td>\n",
       "      <td>0.158073</td>\n",
       "      <td>0.066427</td>\n",
       "      <td>0.032316</td>\n",
       "    </tr>\n",
       "    <tr>\n",
       "      <th>2</th>\n",
       "      <td>0.077852</td>\n",
       "      <td>0.068586</td>\n",
       "      <td>0.097842</td>\n",
       "      <td>0.047826</td>\n",
       "      <td>0.063317</td>\n",
       "      <td>0.055662</td>\n",
       "      <td>0.101452</td>\n",
       "      <td>0.066193</td>\n",
       "      <td>0.145681</td>\n",
       "      <td>0.000000</td>\n",
       "      <td>...</td>\n",
       "      <td>0.000448</td>\n",
       "      <td>0.068762</td>\n",
       "      <td>0.092149</td>\n",
       "      <td>0.076206</td>\n",
       "      <td>0.083214</td>\n",
       "      <td>0.053237</td>\n",
       "      <td>0.019427</td>\n",
       "      <td>0.162944</td>\n",
       "      <td>0.077739</td>\n",
       "      <td>0.052962</td>\n",
       "    </tr>\n",
       "    <tr>\n",
       "      <th>3</th>\n",
       "      <td>0.036581</td>\n",
       "      <td>0.079750</td>\n",
       "      <td>0.102480</td>\n",
       "      <td>0.023690</td>\n",
       "      <td>0.124432</td>\n",
       "      <td>0.124074</td>\n",
       "      <td>0.174516</td>\n",
       "      <td>0.118123</td>\n",
       "      <td>0.155561</td>\n",
       "      <td>0.085115</td>\n",
       "      <td>...</td>\n",
       "      <td>0.144612</td>\n",
       "      <td>0.201845</td>\n",
       "      <td>0.058929</td>\n",
       "      <td>0.204697</td>\n",
       "      <td>0.102756</td>\n",
       "      <td>0.074187</td>\n",
       "      <td>0.045000</td>\n",
       "      <td>0.141348</td>\n",
       "      <td>0.066891</td>\n",
       "      <td>0.026245</td>\n",
       "    </tr>\n",
       "    <tr>\n",
       "      <th>4</th>\n",
       "      <td>0.025598</td>\n",
       "      <td>0.111947</td>\n",
       "      <td>0.133619</td>\n",
       "      <td>0.036449</td>\n",
       "      <td>0.068158</td>\n",
       "      <td>0.209541</td>\n",
       "      <td>0.083468</td>\n",
       "      <td>0.257534</td>\n",
       "      <td>0.014220</td>\n",
       "      <td>0.046970</td>\n",
       "      <td>...</td>\n",
       "      <td>0.292240</td>\n",
       "      <td>0.069515</td>\n",
       "      <td>0.086225</td>\n",
       "      <td>0.216104</td>\n",
       "      <td>0.137389</td>\n",
       "      <td>0.088567</td>\n",
       "      <td>0.043240</td>\n",
       "      <td>0.028853</td>\n",
       "      <td>0.040062</td>\n",
       "      <td>0.042705</td>\n",
       "    </tr>\n",
       "  </tbody>\n",
       "</table>\n",
       "<p>5 rows × 64 columns</p>\n",
       "</div>"
      ],
      "text/plain": [
       "         0         1         2         3         4         5         6   \\\n",
       "0  0.068622  0.083932  0.131006  0.110712  0.091700  0.242029  0.086491   \n",
       "1  0.056056  0.044472  0.071253  0.038244  0.072514  0.062007  0.086187   \n",
       "2  0.077852  0.068586  0.097842  0.047826  0.063317  0.055662  0.101452   \n",
       "3  0.036581  0.079750  0.102480  0.023690  0.124432  0.124074  0.174516   \n",
       "4  0.025598  0.111947  0.133619  0.036449  0.068158  0.209541  0.083468   \n",
       "\n",
       "         7         8         9   ...        54        55        56        57  \\\n",
       "0  0.120168  0.087758  0.090859  ...  0.127396  0.071876  0.196801  0.145509   \n",
       "1  0.037235  0.237438  0.056541  ...  0.089301  0.144980  0.051161  0.115317   \n",
       "2  0.066193  0.145681  0.000000  ...  0.000448  0.068762  0.092149  0.076206   \n",
       "3  0.118123  0.155561  0.085115  ...  0.144612  0.201845  0.058929  0.204697   \n",
       "4  0.257534  0.014220  0.046970  ...  0.292240  0.069515  0.086225  0.216104   \n",
       "\n",
       "         58        59        60        61        62        63  \n",
       "0  0.170728  0.065765  0.053665  0.078728  0.066666  0.142620  \n",
       "1  0.081901  0.062326  0.025021  0.158073  0.066427  0.032316  \n",
       "2  0.083214  0.053237  0.019427  0.162944  0.077739  0.052962  \n",
       "3  0.102756  0.074187  0.045000  0.141348  0.066891  0.026245  \n",
       "4  0.137389  0.088567  0.043240  0.028853  0.040062  0.042705  \n",
       "\n",
       "[5 rows x 64 columns]"
      ]
     },
     "execution_count": 4,
     "metadata": {},
     "output_type": "execute_result"
    }
   ],
   "source": [
    "penguins = pd.read_excel(\"WF305900_normalized_Intensities.xlsx\")\n",
    "penguins.head()"
   ]
  },
  {
   "cell_type": "code",
   "execution_count": 5,
   "metadata": {},
   "outputs": [],
   "source": [
    "import umap"
   ]
  },
  {
   "cell_type": "code",
   "execution_count": 6,
   "metadata": {},
   "outputs": [],
   "source": [
    "reducer = umap.UMAP()"
   ]
  },
  {
   "cell_type": "code",
   "execution_count": 7,
   "metadata": {},
   "outputs": [],
   "source": [
    "penguin_data = penguins.values"
   ]
  },
  {
   "cell_type": "code",
   "execution_count": 8,
   "metadata": {},
   "outputs": [],
   "source": [
    "scaled_penguin_data = StandardScaler().fit_transform(penguin_data)"
   ]
  },
  {
   "cell_type": "code",
   "execution_count": 9,
   "metadata": {},
   "outputs": [
    {
     "data": {
      "text/plain": [
       "(12655, 2)"
      ]
     },
     "execution_count": 9,
     "metadata": {},
     "output_type": "execute_result"
    }
   ],
   "source": [
    "embedding = reducer.fit_transform(scaled_penguin_data)\n",
    "embedding.shape"
   ]
  },
  {
   "cell_type": "code",
   "execution_count": 10,
   "metadata": {},
   "outputs": [
    {
     "data": {
      "text/plain": [
       "Text(0.5, 1.0, 'UMAP projection of the Penguin dataset')"
      ]
     },
     "execution_count": 10,
     "metadata": {},
     "output_type": "execute_result"
    },
    {
     "data": {
      "image/png": "[encoded data removed]",
      "text/plain": [
       "<Figure size 1008x720 with 1 Axes>"
      ]
     },
     "metadata": {},
     "output_type": "display_data"
    }
   ],
   "source": [
    "plt.scatter(\n",
    "    embedding[:, 0],\n",
    "    embedding[:, 1],\n",
    "    )\n",
    "plt.gca().set_aspect('equal', 'datalim')\n",
    "plt.title('UMAP projection of the Penguin dataset', fontsize=24)"
   ]
  },
  {
   "cell_type": "code",
   "execution_count": null,
   "metadata": {},
   "outputs": [],
   "source": []
  }
 ],
 "metadata": {
  "kernelspec": {
   "display_name": "Python 3",
   "language": "python",
   "name": "python3"
  },
  "language_info": {
   "codemirror_mode": {
    "name": "ipython",
    "version": 3
   },
   "file_extension": ".py",
   "mimetype": "text/x-python",
   "name": "python",
   "nbconvert_exporter": "python",
   "pygments_lexer": "ipython3",
   "version": "3.8.5"
  }
 },
 "nbformat": 4,
 "nbformat_minor": 4
}
