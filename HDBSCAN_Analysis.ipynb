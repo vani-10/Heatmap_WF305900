{
 "cells": [
  {
   "cell_type": "code",
   "execution_count": 1,
   "metadata": {},
   "outputs": [
    {
     "data": {
      "text/html": [
       "<div>\n",
       "<style scoped>\n",
       "    .dataframe tbody tr th:only-of-type {\n",
       "        vertical-align: middle;\n",
       "    }\n",
       "\n",
       "    .dataframe tbody tr th {\n",
       "        vertical-align: top;\n",
       "    }\n",
       "\n",
       "    .dataframe thead th {\n",
       "        text-align: right;\n",
       "    }\n",
       "</style>\n",
       "<table border=\"1\" class=\"dataframe\">\n",
       "  <thead>\n",
       "    <tr style=\"text-align: right;\">\n",
       "      <th></th>\n",
       "      <th>0</th>\n",
       "      <th>1</th>\n",
       "      <th>2</th>\n",
       "      <th>3</th>\n",
       "      <th>4</th>\n",
       "      <th>5</th>\n",
       "      <th>6</th>\n",
       "      <th>7</th>\n",
       "      <th>8</th>\n",
       "      <th>9</th>\n",
       "      <th>...</th>\n",
       "      <th>54</th>\n",
       "      <th>55</th>\n",
       "      <th>56</th>\n",
       "      <th>57</th>\n",
       "      <th>58</th>\n",
       "      <th>59</th>\n",
       "      <th>60</th>\n",
       "      <th>61</th>\n",
       "      <th>62</th>\n",
       "      <th>63</th>\n",
       "    </tr>\n",
       "  </thead>\n",
       "  <tbody>\n",
       "    <tr>\n",
       "      <th>0</th>\n",
       "      <td>0.068622</td>\n",
       "      <td>0.083932</td>\n",
       "      <td>0.131006</td>\n",
       "      <td>0.110712</td>\n",
       "      <td>0.091700</td>\n",
       "      <td>0.242029</td>\n",
       "      <td>0.086491</td>\n",
       "      <td>0.120168</td>\n",
       "      <td>0.087758</td>\n",
       "      <td>0.090859</td>\n",
       "      <td>...</td>\n",
       "      <td>0.127396</td>\n",
       "      <td>0.071876</td>\n",
       "      <td>0.196801</td>\n",
       "      <td>0.145509</td>\n",
       "      <td>0.170728</td>\n",
       "      <td>0.065765</td>\n",
       "      <td>0.053665</td>\n",
       "      <td>0.078728</td>\n",
       "      <td>0.066666</td>\n",
       "      <td>0.142620</td>\n",
       "    </tr>\n",
       "    <tr>\n",
       "      <th>1</th>\n",
       "      <td>0.056056</td>\n",
       "      <td>0.044472</td>\n",
       "      <td>0.071253</td>\n",
       "      <td>0.038244</td>\n",
       "      <td>0.072514</td>\n",
       "      <td>0.062007</td>\n",
       "      <td>0.086187</td>\n",
       "      <td>0.037235</td>\n",
       "      <td>0.237438</td>\n",
       "      <td>0.056541</td>\n",
       "      <td>...</td>\n",
       "      <td>0.089301</td>\n",
       "      <td>0.144980</td>\n",
       "      <td>0.051161</td>\n",
       "      <td>0.115317</td>\n",
       "      <td>0.081901</td>\n",
       "      <td>0.062326</td>\n",
       "      <td>0.025021</td>\n",
       "      <td>0.158073</td>\n",
       "      <td>0.066427</td>\n",
       "      <td>0.032316</td>\n",
       "    </tr>\n",
       "    <tr>\n",
       "      <th>2</th>\n",
       "      <td>0.077852</td>\n",
       "      <td>0.068586</td>\n",
       "      <td>0.097842</td>\n",
       "      <td>0.047826</td>\n",
       "      <td>0.063317</td>\n",
       "      <td>0.055662</td>\n",
       "      <td>0.101452</td>\n",
       "      <td>0.066193</td>\n",
       "      <td>0.145681</td>\n",
       "      <td>0.000000</td>\n",
       "      <td>...</td>\n",
       "      <td>0.000448</td>\n",
       "      <td>0.068762</td>\n",
       "      <td>0.092149</td>\n",
       "      <td>0.076206</td>\n",
       "      <td>0.083214</td>\n",
       "      <td>0.053237</td>\n",
       "      <td>0.019427</td>\n",
       "      <td>0.162944</td>\n",
       "      <td>0.077739</td>\n",
       "      <td>0.052962</td>\n",
       "    </tr>\n",
       "    <tr>\n",
       "      <th>3</th>\n",
       "      <td>0.036581</td>\n",
       "      <td>0.079750</td>\n",
       "      <td>0.102480</td>\n",
       "      <td>0.023690</td>\n",
       "      <td>0.124432</td>\n",
       "      <td>0.124074</td>\n",
       "      <td>0.174516</td>\n",
       "      <td>0.118123</td>\n",
       "      <td>0.155561</td>\n",
       "      <td>0.085115</td>\n",
       "      <td>...</td>\n",
       "      <td>0.144612</td>\n",
       "      <td>0.201845</td>\n",
       "      <td>0.058929</td>\n",
       "      <td>0.204697</td>\n",
       "      <td>0.102756</td>\n",
       "      <td>0.074187</td>\n",
       "      <td>0.045000</td>\n",
       "      <td>0.141348</td>\n",
       "      <td>0.066891</td>\n",
       "      <td>0.026245</td>\n",
       "    </tr>\n",
       "    <tr>\n",
       "      <th>4</th>\n",
       "      <td>0.025598</td>\n",
       "      <td>0.111947</td>\n",
       "      <td>0.133619</td>\n",
       "      <td>0.036449</td>\n",
       "      <td>0.068158</td>\n",
       "      <td>0.209541</td>\n",
       "      <td>0.083468</td>\n",
       "      <td>0.257534</td>\n",
       "      <td>0.014220</td>\n",
       "      <td>0.046970</td>\n",
       "      <td>...</td>\n",
       "      <td>0.292240</td>\n",
       "      <td>0.069515</td>\n",
       "      <td>0.086225</td>\n",
       "      <td>0.216104</td>\n",
       "      <td>0.137389</td>\n",
       "      <td>0.088567</td>\n",
       "      <td>0.043240</td>\n",
       "      <td>0.028853</td>\n",
       "      <td>0.040062</td>\n",
       "      <td>0.042705</td>\n",
       "    </tr>\n",
       "  </tbody>\n",
       "</table>\n",
       "<p>5 rows × 64 columns</p>\n",
       "</div>"
      ],
      "text/plain": [
       "         0         1         2         3         4         5         6   \\\n",
       "0  0.068622  0.083932  0.131006  0.110712  0.091700  0.242029  0.086491   \n",
       "1  0.056056  0.044472  0.071253  0.038244  0.072514  0.062007  0.086187   \n",
       "2  0.077852  0.068586  0.097842  0.047826  0.063317  0.055662  0.101452   \n",
       "3  0.036581  0.079750  0.102480  0.023690  0.124432  0.124074  0.174516   \n",
       "4  0.025598  0.111947  0.133619  0.036449  0.068158  0.209541  0.083468   \n",
       "\n",
       "         7         8         9   ...        54        55        56        57  \\\n",
       "0  0.120168  0.087758  0.090859  ...  0.127396  0.071876  0.196801  0.145509   \n",
       "1  0.037235  0.237438  0.056541  ...  0.089301  0.144980  0.051161  0.115317   \n",
       "2  0.066193  0.145681  0.000000  ...  0.000448  0.068762  0.092149  0.076206   \n",
       "3  0.118123  0.155561  0.085115  ...  0.144612  0.201845  0.058929  0.204697   \n",
       "4  0.257534  0.014220  0.046970  ...  0.292240  0.069515  0.086225  0.216104   \n",
       "\n",
       "         58        59        60        61        62        63  \n",
       "0  0.170728  0.065765  0.053665  0.078728  0.066666  0.142620  \n",
       "1  0.081901  0.062326  0.025021  0.158073  0.066427  0.032316  \n",
       "2  0.083214  0.053237  0.019427  0.162944  0.077739  0.052962  \n",
       "3  0.102756  0.074187  0.045000  0.141348  0.066891  0.026245  \n",
       "4  0.137389  0.088567  0.043240  0.028853  0.040062  0.042705  \n",
       "\n",
       "[5 rows x 64 columns]"
      ]
     },
     "execution_count": 1,
     "metadata": {},
     "output_type": "execute_result"
    }
   ],
   "source": [
    "import pandas as pd\n",
    "df = pd.read_excel(\"WF305900_normalized_Intensities.xlsx\")\n",
    "df.head()"
   ]
  },
  {
   "cell_type": "code",
   "execution_count": 2,
   "metadata": {},
   "outputs": [],
   "source": [
    "import hdbscan"
   ]
  },
  {
   "cell_type": "code",
   "execution_count": 3,
   "metadata": {},
   "outputs": [],
   "source": [
    "clusterer = hdbscan.HDBSCAN()"
   ]
  },
  {
   "cell_type": "code",
   "execution_count": 4,
   "metadata": {},
   "outputs": [
    {
     "data": {
      "text/plain": [
       "HDBSCAN()"
      ]
     },
     "execution_count": 4,
     "metadata": {},
     "output_type": "execute_result"
    }
   ],
   "source": [
    "clusterer.fit(df)"
   ]
  },
  {
   "cell_type": "code",
   "execution_count": 6,
   "metadata": {},
   "outputs": [
    {
     "data": {
      "text/plain": [
       "array([-1, -1, -1, ..., -1, -1, -1])"
      ]
     },
     "execution_count": 6,
     "metadata": {},
     "output_type": "execute_result"
    }
   ],
   "source": [
    "clusterer.labels_"
   ]
  },
  {
   "cell_type": "code",
   "execution_count": 7,
   "metadata": {},
   "outputs": [
    {
     "data": {
      "text/plain": [
       "40"
      ]
     },
     "execution_count": 7,
     "metadata": {},
     "output_type": "execute_result"
    }
   ],
   "source": [
    "clusterer.labels_.max()"
   ]
  },
  {
   "cell_type": "code",
   "execution_count": 8,
   "metadata": {},
   "outputs": [
    {
     "data": {
      "text/plain": [
       "array([0., 0., 0., ..., 0., 0., 0.])"
      ]
     },
     "execution_count": 8,
     "metadata": {},
     "output_type": "execute_result"
    }
   ],
   "source": [
    "clusterer.probabilities_"
   ]
  },
  {
   "cell_type": "code",
   "execution_count": 9,
   "metadata": {},
   "outputs": [
    {
     "data": {
      "text/plain": [
       "array([-1, -1, -1, ..., -1, -1, -1])"
      ]
     },
     "execution_count": 9,
     "metadata": {},
     "output_type": "execute_result"
    }
   ],
   "source": [
    "clusterer = hdbscan.HDBSCAN(metric='euclidean')\n",
    "clusterer.fit(df)\n",
    "clusterer.labels_"
   ]
  },
  {
   "cell_type": "code",
   "execution_count": 10,
   "metadata": {},
   "outputs": [],
   "source": [
    "import hdbscan\n",
    "import numpy as np\n",
    "import matplotlib.pyplot as plt\n",
    "import seaborn as sns\n",
    "%matplotlib inline"
   ]
  },
  {
   "cell_type": "code",
   "execution_count": 11,
   "metadata": {},
   "outputs": [
    {
     "data": {
      "text/plain": [
       "(12655, 64)"
      ]
     },
     "execution_count": 11,
     "metadata": {},
     "output_type": "execute_result"
    }
   ],
   "source": [
    "df.shape"
   ]
  },
  {
   "cell_type": "code",
   "execution_count": 12,
   "metadata": {},
   "outputs": [
    {
     "data": {
      "text/html": [
       "<div>\n",
       "<style scoped>\n",
       "    .dataframe tbody tr th:only-of-type {\n",
       "        vertical-align: middle;\n",
       "    }\n",
       "\n",
       "    .dataframe tbody tr th {\n",
       "        vertical-align: top;\n",
       "    }\n",
       "\n",
       "    .dataframe thead th {\n",
       "        text-align: right;\n",
       "    }\n",
       "</style>\n",
       "<table border=\"1\" class=\"dataframe\">\n",
       "  <thead>\n",
       "    <tr style=\"text-align: right;\">\n",
       "      <th></th>\n",
       "      <th>0</th>\n",
       "      <th>1</th>\n",
       "      <th>2</th>\n",
       "      <th>3</th>\n",
       "      <th>4</th>\n",
       "      <th>5</th>\n",
       "      <th>6</th>\n",
       "      <th>7</th>\n",
       "      <th>8</th>\n",
       "      <th>9</th>\n",
       "      <th>...</th>\n",
       "      <th>54</th>\n",
       "      <th>55</th>\n",
       "      <th>56</th>\n",
       "      <th>57</th>\n",
       "      <th>58</th>\n",
       "      <th>59</th>\n",
       "      <th>60</th>\n",
       "      <th>61</th>\n",
       "      <th>62</th>\n",
       "      <th>63</th>\n",
       "    </tr>\n",
       "  </thead>\n",
       "  <tbody>\n",
       "    <tr>\n",
       "      <th>0</th>\n",
       "      <td>0.068622</td>\n",
       "      <td>0.083932</td>\n",
       "      <td>0.131006</td>\n",
       "      <td>0.110712</td>\n",
       "      <td>0.091700</td>\n",
       "      <td>0.242029</td>\n",
       "      <td>0.086491</td>\n",
       "      <td>0.120168</td>\n",
       "      <td>0.087758</td>\n",
       "      <td>0.090859</td>\n",
       "      <td>...</td>\n",
       "      <td>0.127396</td>\n",
       "      <td>0.071876</td>\n",
       "      <td>0.196801</td>\n",
       "      <td>0.145509</td>\n",
       "      <td>0.170728</td>\n",
       "      <td>0.065765</td>\n",
       "      <td>0.053665</td>\n",
       "      <td>0.078728</td>\n",
       "      <td>0.066666</td>\n",
       "      <td>0.142620</td>\n",
       "    </tr>\n",
       "    <tr>\n",
       "      <th>1</th>\n",
       "      <td>0.056056</td>\n",
       "      <td>0.044472</td>\n",
       "      <td>0.071253</td>\n",
       "      <td>0.038244</td>\n",
       "      <td>0.072514</td>\n",
       "      <td>0.062007</td>\n",
       "      <td>0.086187</td>\n",
       "      <td>0.037235</td>\n",
       "      <td>0.237438</td>\n",
       "      <td>0.056541</td>\n",
       "      <td>...</td>\n",
       "      <td>0.089301</td>\n",
       "      <td>0.144980</td>\n",
       "      <td>0.051161</td>\n",
       "      <td>0.115317</td>\n",
       "      <td>0.081901</td>\n",
       "      <td>0.062326</td>\n",
       "      <td>0.025021</td>\n",
       "      <td>0.158073</td>\n",
       "      <td>0.066427</td>\n",
       "      <td>0.032316</td>\n",
       "    </tr>\n",
       "    <tr>\n",
       "      <th>2</th>\n",
       "      <td>0.077852</td>\n",
       "      <td>0.068586</td>\n",
       "      <td>0.097842</td>\n",
       "      <td>0.047826</td>\n",
       "      <td>0.063317</td>\n",
       "      <td>0.055662</td>\n",
       "      <td>0.101452</td>\n",
       "      <td>0.066193</td>\n",
       "      <td>0.145681</td>\n",
       "      <td>0.000000</td>\n",
       "      <td>...</td>\n",
       "      <td>0.000448</td>\n",
       "      <td>0.068762</td>\n",
       "      <td>0.092149</td>\n",
       "      <td>0.076206</td>\n",
       "      <td>0.083214</td>\n",
       "      <td>0.053237</td>\n",
       "      <td>0.019427</td>\n",
       "      <td>0.162944</td>\n",
       "      <td>0.077739</td>\n",
       "      <td>0.052962</td>\n",
       "    </tr>\n",
       "    <tr>\n",
       "      <th>3</th>\n",
       "      <td>0.036581</td>\n",
       "      <td>0.079750</td>\n",
       "      <td>0.102480</td>\n",
       "      <td>0.023690</td>\n",
       "      <td>0.124432</td>\n",
       "      <td>0.124074</td>\n",
       "      <td>0.174516</td>\n",
       "      <td>0.118123</td>\n",
       "      <td>0.155561</td>\n",
       "      <td>0.085115</td>\n",
       "      <td>...</td>\n",
       "      <td>0.144612</td>\n",
       "      <td>0.201845</td>\n",
       "      <td>0.058929</td>\n",
       "      <td>0.204697</td>\n",
       "      <td>0.102756</td>\n",
       "      <td>0.074187</td>\n",
       "      <td>0.045000</td>\n",
       "      <td>0.141348</td>\n",
       "      <td>0.066891</td>\n",
       "      <td>0.026245</td>\n",
       "    </tr>\n",
       "    <tr>\n",
       "      <th>4</th>\n",
       "      <td>0.025598</td>\n",
       "      <td>0.111947</td>\n",
       "      <td>0.133619</td>\n",
       "      <td>0.036449</td>\n",
       "      <td>0.068158</td>\n",
       "      <td>0.209541</td>\n",
       "      <td>0.083468</td>\n",
       "      <td>0.257534</td>\n",
       "      <td>0.014220</td>\n",
       "      <td>0.046970</td>\n",
       "      <td>...</td>\n",
       "      <td>0.292240</td>\n",
       "      <td>0.069515</td>\n",
       "      <td>0.086225</td>\n",
       "      <td>0.216104</td>\n",
       "      <td>0.137389</td>\n",
       "      <td>0.088567</td>\n",
       "      <td>0.043240</td>\n",
       "      <td>0.028853</td>\n",
       "      <td>0.040062</td>\n",
       "      <td>0.042705</td>\n",
       "    </tr>\n",
       "    <tr>\n",
       "      <th>...</th>\n",
       "      <td>...</td>\n",
       "      <td>...</td>\n",
       "      <td>...</td>\n",
       "      <td>...</td>\n",
       "      <td>...</td>\n",
       "      <td>...</td>\n",
       "      <td>...</td>\n",
       "      <td>...</td>\n",
       "      <td>...</td>\n",
       "      <td>...</td>\n",
       "      <td>...</td>\n",
       "      <td>...</td>\n",
       "      <td>...</td>\n",
       "      <td>...</td>\n",
       "      <td>...</td>\n",
       "      <td>...</td>\n",
       "      <td>...</td>\n",
       "      <td>...</td>\n",
       "      <td>...</td>\n",
       "      <td>...</td>\n",
       "      <td>...</td>\n",
       "    </tr>\n",
       "    <tr>\n",
       "      <th>12650</th>\n",
       "      <td>0.013474</td>\n",
       "      <td>0.011576</td>\n",
       "      <td>0.020105</td>\n",
       "      <td>0.012624</td>\n",
       "      <td>0.013820</td>\n",
       "      <td>0.011719</td>\n",
       "      <td>0.020612</td>\n",
       "      <td>0.007137</td>\n",
       "      <td>0.050299</td>\n",
       "      <td>0.010399</td>\n",
       "      <td>...</td>\n",
       "      <td>0.020361</td>\n",
       "      <td>0.023705</td>\n",
       "      <td>0.009408</td>\n",
       "      <td>0.031323</td>\n",
       "      <td>0.020201</td>\n",
       "      <td>0.017909</td>\n",
       "      <td>0.001147</td>\n",
       "      <td>0.027403</td>\n",
       "      <td>0.011553</td>\n",
       "      <td>0.005931</td>\n",
       "    </tr>\n",
       "    <tr>\n",
       "      <th>12651</th>\n",
       "      <td>0.069542</td>\n",
       "      <td>0.057437</td>\n",
       "      <td>0.086252</td>\n",
       "      <td>0.064174</td>\n",
       "      <td>0.075854</td>\n",
       "      <td>0.061637</td>\n",
       "      <td>0.106097</td>\n",
       "      <td>0.043229</td>\n",
       "      <td>0.328929</td>\n",
       "      <td>0.073033</td>\n",
       "      <td>...</td>\n",
       "      <td>0.120429</td>\n",
       "      <td>0.120438</td>\n",
       "      <td>0.071486</td>\n",
       "      <td>0.123615</td>\n",
       "      <td>0.098468</td>\n",
       "      <td>0.076678</td>\n",
       "      <td>0.024099</td>\n",
       "      <td>0.160900</td>\n",
       "      <td>0.074621</td>\n",
       "      <td>0.035035</td>\n",
       "    </tr>\n",
       "    <tr>\n",
       "      <th>12652</th>\n",
       "      <td>0.089441</td>\n",
       "      <td>0.085688</td>\n",
       "      <td>0.108877</td>\n",
       "      <td>0.093291</td>\n",
       "      <td>0.114183</td>\n",
       "      <td>0.057723</td>\n",
       "      <td>0.123263</td>\n",
       "      <td>0.104064</td>\n",
       "      <td>0.271070</td>\n",
       "      <td>0.073507</td>\n",
       "      <td>...</td>\n",
       "      <td>0.145402</td>\n",
       "      <td>0.214926</td>\n",
       "      <td>0.105908</td>\n",
       "      <td>0.084203</td>\n",
       "      <td>0.065503</td>\n",
       "      <td>0.046114</td>\n",
       "      <td>0.034221</td>\n",
       "      <td>0.179831</td>\n",
       "      <td>0.080930</td>\n",
       "      <td>0.065506</td>\n",
       "    </tr>\n",
       "    <tr>\n",
       "      <th>12653</th>\n",
       "      <td>0.127118</td>\n",
       "      <td>0.071308</td>\n",
       "      <td>0.107884</td>\n",
       "      <td>0.063534</td>\n",
       "      <td>0.099660</td>\n",
       "      <td>0.090707</td>\n",
       "      <td>0.126288</td>\n",
       "      <td>0.086762</td>\n",
       "      <td>0.314672</td>\n",
       "      <td>0.116884</td>\n",
       "      <td>...</td>\n",
       "      <td>0.244262</td>\n",
       "      <td>0.205684</td>\n",
       "      <td>0.112269</td>\n",
       "      <td>0.169334</td>\n",
       "      <td>0.105468</td>\n",
       "      <td>0.112288</td>\n",
       "      <td>0.041163</td>\n",
       "      <td>0.103963</td>\n",
       "      <td>0.079359</td>\n",
       "      <td>0.091685</td>\n",
       "    </tr>\n",
       "    <tr>\n",
       "      <th>12654</th>\n",
       "      <td>0.068055</td>\n",
       "      <td>0.046617</td>\n",
       "      <td>0.112074</td>\n",
       "      <td>0.071484</td>\n",
       "      <td>0.116892</td>\n",
       "      <td>0.108965</td>\n",
       "      <td>0.083227</td>\n",
       "      <td>0.046439</td>\n",
       "      <td>0.023293</td>\n",
       "      <td>0.000000</td>\n",
       "      <td>...</td>\n",
       "      <td>0.000000</td>\n",
       "      <td>0.122056</td>\n",
       "      <td>0.059113</td>\n",
       "      <td>0.196193</td>\n",
       "      <td>0.091979</td>\n",
       "      <td>0.045819</td>\n",
       "      <td>0.014415</td>\n",
       "      <td>0.142648</td>\n",
       "      <td>0.085791</td>\n",
       "      <td>0.029799</td>\n",
       "    </tr>\n",
       "  </tbody>\n",
       "</table>\n",
       "<p>12655 rows × 64 columns</p>\n",
       "</div>"
      ],
      "text/plain": [
       "             0         1         2         3         4         5         6   \\\n",
       "0      0.068622  0.083932  0.131006  0.110712  0.091700  0.242029  0.086491   \n",
       "1      0.056056  0.044472  0.071253  0.038244  0.072514  0.062007  0.086187   \n",
       "2      0.077852  0.068586  0.097842  0.047826  0.063317  0.055662  0.101452   \n",
       "3      0.036581  0.079750  0.102480  0.023690  0.124432  0.124074  0.174516   \n",
       "4      0.025598  0.111947  0.133619  0.036449  0.068158  0.209541  0.083468   \n",
       "...         ...       ...       ...       ...       ...       ...       ...   \n",
       "12650  0.013474  0.011576  0.020105  0.012624  0.013820  0.011719  0.020612   \n",
       "12651  0.069542  0.057437  0.086252  0.064174  0.075854  0.061637  0.106097   \n",
       "12652  0.089441  0.085688  0.108877  0.093291  0.114183  0.057723  0.123263   \n",
       "12653  0.127118  0.071308  0.107884  0.063534  0.099660  0.090707  0.126288   \n",
       "12654  0.068055  0.046617  0.112074  0.071484  0.116892  0.108965  0.083227   \n",
       "\n",
       "             7         8         9   ...        54        55        56  \\\n",
       "0      0.120168  0.087758  0.090859  ...  0.127396  0.071876  0.196801   \n",
       "1      0.037235  0.237438  0.056541  ...  0.089301  0.144980  0.051161   \n",
       "2      0.066193  0.145681  0.000000  ...  0.000448  0.068762  0.092149   \n",
       "3      0.118123  0.155561  0.085115  ...  0.144612  0.201845  0.058929   \n",
       "4      0.257534  0.014220  0.046970  ...  0.292240  0.069515  0.086225   \n",
       "...         ...       ...       ...  ...       ...       ...       ...   \n",
       "12650  0.007137  0.050299  0.010399  ...  0.020361  0.023705  0.009408   \n",
       "12651  0.043229  0.328929  0.073033  ...  0.120429  0.120438  0.071486   \n",
       "12652  0.104064  0.271070  0.073507  ...  0.145402  0.214926  0.105908   \n",
       "12653  0.086762  0.314672  0.116884  ...  0.244262  0.205684  0.112269   \n",
       "12654  0.046439  0.023293  0.000000  ...  0.000000  0.122056  0.059113   \n",
       "\n",
       "             57        58        59        60        61        62        63  \n",
       "0      0.145509  0.170728  0.065765  0.053665  0.078728  0.066666  0.142620  \n",
       "1      0.115317  0.081901  0.062326  0.025021  0.158073  0.066427  0.032316  \n",
       "2      0.076206  0.083214  0.053237  0.019427  0.162944  0.077739  0.052962  \n",
       "3      0.204697  0.102756  0.074187  0.045000  0.141348  0.066891  0.026245  \n",
       "4      0.216104  0.137389  0.088567  0.043240  0.028853  0.040062  0.042705  \n",
       "...         ...       ...       ...       ...       ...       ...       ...  \n",
       "12650  0.031323  0.020201  0.017909  0.001147  0.027403  0.011553  0.005931  \n",
       "12651  0.123615  0.098468  0.076678  0.024099  0.160900  0.074621  0.035035  \n",
       "12652  0.084203  0.065503  0.046114  0.034221  0.179831  0.080930  0.065506  \n",
       "12653  0.169334  0.105468  0.112288  0.041163  0.103963  0.079359  0.091685  \n",
       "12654  0.196193  0.091979  0.045819  0.014415  0.142648  0.085791  0.029799  \n",
       "\n",
       "[12655 rows x 64 columns]"
      ]
     },
     "execution_count": 12,
     "metadata": {},
     "output_type": "execute_result"
    }
   ],
   "source": [
    "df"
   ]
  },
  {
   "cell_type": "code",
   "execution_count": 17,
   "metadata": {},
   "outputs": [],
   "source": [
    "data=df.values"
   ]
  },
  {
   "cell_type": "code",
   "execution_count": 18,
   "metadata": {},
   "outputs": [
    {
     "data": {
      "text/plain": [
       "array([[0.06862194, 0.08393181, 0.13100628, ..., 0.0787284 , 0.06666588,\n",
       "        0.14262035],\n",
       "       [0.05605633, 0.04447242, 0.07125325, ..., 0.15807273, 0.06642707,\n",
       "        0.03231619],\n",
       "       [0.07785191, 0.06858579, 0.09784241, ..., 0.1629436 , 0.07773898,\n",
       "        0.05296181],\n",
       "       ...,\n",
       "       [0.08944093, 0.0856882 , 0.10887684, ..., 0.17983122, 0.08092966,\n",
       "        0.06550617],\n",
       "       [0.12711823, 0.07130772, 0.10788377, ..., 0.10396315, 0.07935919,\n",
       "        0.09168493],\n",
       "       [0.06805463, 0.04661731, 0.11207411, ..., 0.14264772, 0.08579074,\n",
       "        0.02979945]])"
      ]
     },
     "execution_count": 18,
     "metadata": {},
     "output_type": "execute_result"
    }
   ],
   "source": [
    "data"
   ]
  },
  {
   "cell_type": "markdown",
   "metadata": {},
   "source": [
    "# plt.scatter(*data.T,s=13, linewidth=0, c='b', alpha=0.25)\n",
    "What is s here?How to set s in my case."
   ]
  },
  {
   "cell_type": "markdown",
   "metadata": {},
   "source": [
    "plt.scatter(*data.T, s=50, linewidth=0, c='b', alpha=0.25)"
   ]
  },
  {
   "cell_type": "code",
   "execution_count": 22,
   "metadata": {},
   "outputs": [
    {
     "ename": "TypeError",
     "evalue": "scatter() got multiple values for argument 's'",
     "output_type": "error",
     "traceback": [
      "\u001b[0;31m---------------------------------------------------------------------------\u001b[0m",
      "\u001b[0;31mTypeError\u001b[0m                                 Traceback (most recent call last)",
      "\u001b[0;32m<ipython-input-22-cc461c39b1b6>\u001b[0m in \u001b[0;36m<module>\u001b[0;34m\u001b[0m\n\u001b[1;32m      6\u001b[0m cluster_member_colors = [sns.desaturate(x, p) for x, p in\n\u001b[1;32m      7\u001b[0m                          zip(cluster_colors, clusterer.probabilities_)]\n\u001b[0;32m----> 8\u001b[0;31m \u001b[0mplt\u001b[0m\u001b[0;34m.\u001b[0m\u001b[0mscatter\u001b[0m\u001b[0;34m(\u001b[0m\u001b[0;34m*\u001b[0m\u001b[0mdata\u001b[0m\u001b[0;34m.\u001b[0m\u001b[0mT\u001b[0m\u001b[0;34m,\u001b[0m \u001b[0ms\u001b[0m\u001b[0;34m=\u001b[0m\u001b[0;36m50\u001b[0m\u001b[0;34m,\u001b[0m \u001b[0mlinewidth\u001b[0m\u001b[0;34m=\u001b[0m\u001b[0;36m0\u001b[0m\u001b[0;34m,\u001b[0m \u001b[0mc\u001b[0m\u001b[0;34m=\u001b[0m\u001b[0mcluster_member_colors\u001b[0m\u001b[0;34m,\u001b[0m \u001b[0malpha\u001b[0m\u001b[0;34m=\u001b[0m\u001b[0;36m0.25\u001b[0m\u001b[0;34m)\u001b[0m\u001b[0;34m\u001b[0m\u001b[0;34m\u001b[0m\u001b[0m\n\u001b[0m",
      "\u001b[0;31mTypeError\u001b[0m: scatter() got multiple values for argument 's'"
     ]
    }
   ],
   "source": [
    "clusterer = hdbscan.HDBSCAN(min_cluster_size=15).fit(data)\n",
    "color_palette = sns.color_palette('deep', 8)\n",
    "cluster_colors = [color_palette[x] if x >= 0\n",
    "                  else (0.5, 0.5, 0.5)\n",
    "                  for x in clusterer.labels_]\n",
    "cluster_member_colors = [sns.desaturate(x, p) for x, p in\n",
    "                         zip(cluster_colors, clusterer.probabilities_)]\n",
    "plt.scatter(*data.T, s=50, linewidth=0, c=cluster_member_colors, alpha=0.25)"
   ]
  },
  {
   "cell_type": "code",
   "execution_count": 23,
   "metadata": {},
   "outputs": [
    {
     "data": {
      "text/plain": [
       "<hdbscan.plots.CondensedTree at 0x7fcbdeb73a90>"
      ]
     },
     "execution_count": 23,
     "metadata": {},
     "output_type": "execute_result"
    }
   ],
   "source": [
    "clusterer.condensed_tree_"
   ]
  },
  {
   "cell_type": "code",
   "execution_count": 24,
   "metadata": {},
   "outputs": [
    {
     "data": {
      "text/plain": [
       "<AxesSubplot:ylabel='$\\\\lambda$ value'>"
      ]
     },
     "execution_count": 24,
     "metadata": {},
     "output_type": "execute_result"
    },
    {
     "data": {
      "image/png": "[encoded data removed]",
      "text/plain": [
       "<Figure size 432x288 with 2 Axes>"
      ]
     },
     "metadata": {
      "needs_background": "light"
     },
     "output_type": "display_data"
    }
   ],
   "source": [
    "clusterer.condensed_tree_.plot()"
   ]
  },
  {
   "cell_type": "code",
   "execution_count": 25,
   "metadata": {},
   "outputs": [
    {
     "name": "stderr",
     "output_type": "stream",
     "text": [
      "/Users/kalaivanikarthik/opt/anaconda3/lib/python3.8/site-packages/hdbscan/plots.py:383: UserWarning: Infinite lambda values encountered in chosen clusters. This might be due to duplicates in the data.\n",
      "  warn('Infinite lambda values encountered in chosen clusters.'\n"
     ]
    },
    {
     "data": {
      "text/plain": [
       "<AxesSubplot:ylabel='$\\\\lambda$ value'>"
      ]
     },
     "execution_count": 25,
     "metadata": {},
     "output_type": "execute_result"
    },
    {
     "data": {
      "image/png": "[encoded data removed]",
      "text/plain": [
       "<Figure size 432x288 with 2 Axes>"
      ]
     },
     "metadata": {
      "needs_background": "light"
     },
     "output_type": "display_data"
    }
   ],
   "source": [
    "clusterer.condensed_tree_.plot(select_clusters=True,\n",
    "                               selection_palette=sns.color_palette('deep', 8))"
   ]
  },
  {
   "cell_type": "code",
   "execution_count": null,
   "metadata": {},
   "outputs": [],
   "source": []
  }
 ],
 "metadata": {
  "kernelspec": {
   "display_name": "Python 3",
   "language": "python",
   "name": "python3"
  },
  "language_info": {
   "codemirror_mode": {
    "name": "ipython",
    "version": 3
   },
   "file_extension": ".py",
   "mimetype": "text/x-python",
   "name": "python",
   "nbconvert_exporter": "python",
   "pygments_lexer": "ipython3",
   "version": "3.8.5"
  }
 },
 "nbformat": 4,
 "nbformat_minor": 2
}
